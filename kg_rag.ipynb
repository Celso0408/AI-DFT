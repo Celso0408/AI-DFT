{
  "nbformat": 4,
  "nbformat_minor": 0,
  "metadata": {
    "colab": {
      "provenance": []
    },
    "kernelspec": {
      "name": "python3",
      "display_name": "Python 3"
    },
    "language_info": {
      "name": "python"
    }
  },
  "cells": [
    {
      "cell_type": "code",
      "execution_count": 56,
      "metadata": {
        "colab": {
          "base_uri": "https://localhost:8080/"
        },
        "id": "Bw_uSEm4-1BM",
        "outputId": "883ee239-02da-40e9-fabc-bb5cf2298fef"
      },
      "outputs": [
        {
          "output_type": "stream",
          "name": "stdout",
          "text": [
            "Requirement already satisfied: groq in /usr/local/lib/python3.10/dist-packages (0.11.0)\n",
            "Requirement already satisfied: anyio<5,>=3.5.0 in /usr/local/lib/python3.10/dist-packages (from groq) (3.7.1)\n",
            "Requirement already satisfied: distro<2,>=1.7.0 in /usr/lib/python3/dist-packages (from groq) (1.7.0)\n",
            "Requirement already satisfied: httpx<1,>=0.23.0 in /usr/local/lib/python3.10/dist-packages (from groq) (0.27.2)\n",
            "Requirement already satisfied: pydantic<3,>=1.9.0 in /usr/local/lib/python3.10/dist-packages (from groq) (2.9.2)\n",
            "Requirement already satisfied: sniffio in /usr/local/lib/python3.10/dist-packages (from groq) (1.3.1)\n",
            "Requirement already satisfied: typing-extensions<5,>=4.7 in /usr/local/lib/python3.10/dist-packages (from groq) (4.12.2)\n",
            "Requirement already satisfied: idna>=2.8 in /usr/local/lib/python3.10/dist-packages (from anyio<5,>=3.5.0->groq) (3.10)\n",
            "Requirement already satisfied: exceptiongroup in /usr/local/lib/python3.10/dist-packages (from anyio<5,>=3.5.0->groq) (1.2.2)\n",
            "Requirement already satisfied: certifi in /usr/local/lib/python3.10/dist-packages (from httpx<1,>=0.23.0->groq) (2024.8.30)\n",
            "Requirement already satisfied: httpcore==1.* in /usr/local/lib/python3.10/dist-packages (from httpx<1,>=0.23.0->groq) (1.0.5)\n",
            "Requirement already satisfied: h11<0.15,>=0.13 in /usr/local/lib/python3.10/dist-packages (from httpcore==1.*->httpx<1,>=0.23.0->groq) (0.14.0)\n",
            "Requirement already satisfied: annotated-types>=0.6.0 in /usr/local/lib/python3.10/dist-packages (from pydantic<3,>=1.9.0->groq) (0.7.0)\n",
            "Requirement already satisfied: pydantic-core==2.23.4 in /usr/local/lib/python3.10/dist-packages (from pydantic<3,>=1.9.0->groq) (2.23.4)\n"
          ]
        }
      ],
      "source": [
        "##capture\n",
        "!pip install groq"
      ]
    },
    {
      "cell_type": "code",
      "source": [
        "import os\n",
        "from google.colab import userdata\n",
        "os.environ['GROQ_API_KEY'] = userdata.get('GROQ_API_KEY')\n",
        "from groq import Groq\n",
        "client = Groq()"
      ],
      "metadata": {
        "id": "uMOD_Psn_hi-"
      },
      "execution_count": 57,
      "outputs": []
    },
    {
      "cell_type": "code",
      "source": [
        "# def generate_content(prompt):\n",
        "#     response = client.chat.completions.create(\n",
        "#         messages=[{\"role\": \"user\", \"content\": prompt}],\n",
        "#         model=\"llama3-groq-70b-8192-tool-use-preview\"#\"llama-3.1-8b-instant\"\n",
        "#     )\n",
        "#     return response"
      ],
      "metadata": {
        "id": "zHkbyxVTCcDs"
      },
      "execution_count": 58,
      "outputs": []
    },
    {
      "cell_type": "markdown",
      "source": [
        "# KG-RAG\n",
        "\n",
        "## Prepare Your Documents"
      ],
      "metadata": {
        "id": "SJD63zBpcDkt"
      }
    },
    {
      "cell_type": "markdown",
      "source": [
        "## Upload the json file"
      ],
      "metadata": {
        "id": "uInsKuDsQ_-R"
      }
    },
    {
      "cell_type": "code",
      "source": [
        "from google.colab import files\n",
        "uploaded = files.upload()  # This will prompt you to upload your JSON file"
      ],
      "metadata": {
        "colab": {
          "base_uri": "https://localhost:8080/",
          "height": 73
        },
        "id": "kfnjKWnBCjj2",
        "outputId": "09c8997d-2627-4a92-90c2-fd9ee6ba1d95"
      },
      "execution_count": 59,
      "outputs": [
        {
          "output_type": "display_data",
          "data": {
            "text/plain": [
              "<IPython.core.display.HTML object>"
            ],
            "text/html": [
              "\n",
              "     <input type=\"file\" id=\"files-36d9d697-e1e5-4cec-a79e-92c88db98b68\" name=\"files[]\" multiple disabled\n",
              "        style=\"border:none\" />\n",
              "     <output id=\"result-36d9d697-e1e5-4cec-a79e-92c88db98b68\">\n",
              "      Upload widget is only available when the cell has been executed in the\n",
              "      current browser session. Please rerun this cell to enable.\n",
              "      </output>\n",
              "      <script>// Copyright 2017 Google LLC\n",
              "//\n",
              "// Licensed under the Apache License, Version 2.0 (the \"License\");\n",
              "// you may not use this file except in compliance with the License.\n",
              "// You may obtain a copy of the License at\n",
              "//\n",
              "//      http://www.apache.org/licenses/LICENSE-2.0\n",
              "//\n",
              "// Unless required by applicable law or agreed to in writing, software\n",
              "// distributed under the License is distributed on an \"AS IS\" BASIS,\n",
              "// WITHOUT WARRANTIES OR CONDITIONS OF ANY KIND, either express or implied.\n",
              "// See the License for the specific language governing permissions and\n",
              "// limitations under the License.\n",
              "\n",
              "/**\n",
              " * @fileoverview Helpers for google.colab Python module.\n",
              " */\n",
              "(function(scope) {\n",
              "function span(text, styleAttributes = {}) {\n",
              "  const element = document.createElement('span');\n",
              "  element.textContent = text;\n",
              "  for (const key of Object.keys(styleAttributes)) {\n",
              "    element.style[key] = styleAttributes[key];\n",
              "  }\n",
              "  return element;\n",
              "}\n",
              "\n",
              "// Max number of bytes which will be uploaded at a time.\n",
              "const MAX_PAYLOAD_SIZE = 100 * 1024;\n",
              "\n",
              "function _uploadFiles(inputId, outputId) {\n",
              "  const steps = uploadFilesStep(inputId, outputId);\n",
              "  const outputElement = document.getElementById(outputId);\n",
              "  // Cache steps on the outputElement to make it available for the next call\n",
              "  // to uploadFilesContinue from Python.\n",
              "  outputElement.steps = steps;\n",
              "\n",
              "  return _uploadFilesContinue(outputId);\n",
              "}\n",
              "\n",
              "// This is roughly an async generator (not supported in the browser yet),\n",
              "// where there are multiple asynchronous steps and the Python side is going\n",
              "// to poll for completion of each step.\n",
              "// This uses a Promise to block the python side on completion of each step,\n",
              "// then passes the result of the previous step as the input to the next step.\n",
              "function _uploadFilesContinue(outputId) {\n",
              "  const outputElement = document.getElementById(outputId);\n",
              "  const steps = outputElement.steps;\n",
              "\n",
              "  const next = steps.next(outputElement.lastPromiseValue);\n",
              "  return Promise.resolve(next.value.promise).then((value) => {\n",
              "    // Cache the last promise value to make it available to the next\n",
              "    // step of the generator.\n",
              "    outputElement.lastPromiseValue = value;\n",
              "    return next.value.response;\n",
              "  });\n",
              "}\n",
              "\n",
              "/**\n",
              " * Generator function which is called between each async step of the upload\n",
              " * process.\n",
              " * @param {string} inputId Element ID of the input file picker element.\n",
              " * @param {string} outputId Element ID of the output display.\n",
              " * @return {!Iterable<!Object>} Iterable of next steps.\n",
              " */\n",
              "function* uploadFilesStep(inputId, outputId) {\n",
              "  const inputElement = document.getElementById(inputId);\n",
              "  inputElement.disabled = false;\n",
              "\n",
              "  const outputElement = document.getElementById(outputId);\n",
              "  outputElement.innerHTML = '';\n",
              "\n",
              "  const pickedPromise = new Promise((resolve) => {\n",
              "    inputElement.addEventListener('change', (e) => {\n",
              "      resolve(e.target.files);\n",
              "    });\n",
              "  });\n",
              "\n",
              "  const cancel = document.createElement('button');\n",
              "  inputElement.parentElement.appendChild(cancel);\n",
              "  cancel.textContent = 'Cancel upload';\n",
              "  const cancelPromise = new Promise((resolve) => {\n",
              "    cancel.onclick = () => {\n",
              "      resolve(null);\n",
              "    };\n",
              "  });\n",
              "\n",
              "  // Wait for the user to pick the files.\n",
              "  const files = yield {\n",
              "    promise: Promise.race([pickedPromise, cancelPromise]),\n",
              "    response: {\n",
              "      action: 'starting',\n",
              "    }\n",
              "  };\n",
              "\n",
              "  cancel.remove();\n",
              "\n",
              "  // Disable the input element since further picks are not allowed.\n",
              "  inputElement.disabled = true;\n",
              "\n",
              "  if (!files) {\n",
              "    return {\n",
              "      response: {\n",
              "        action: 'complete',\n",
              "      }\n",
              "    };\n",
              "  }\n",
              "\n",
              "  for (const file of files) {\n",
              "    const li = document.createElement('li');\n",
              "    li.append(span(file.name, {fontWeight: 'bold'}));\n",
              "    li.append(span(\n",
              "        `(${file.type || 'n/a'}) - ${file.size} bytes, ` +\n",
              "        `last modified: ${\n",
              "            file.lastModifiedDate ? file.lastModifiedDate.toLocaleDateString() :\n",
              "                                    'n/a'} - `));\n",
              "    const percent = span('0% done');\n",
              "    li.appendChild(percent);\n",
              "\n",
              "    outputElement.appendChild(li);\n",
              "\n",
              "    const fileDataPromise = new Promise((resolve) => {\n",
              "      const reader = new FileReader();\n",
              "      reader.onload = (e) => {\n",
              "        resolve(e.target.result);\n",
              "      };\n",
              "      reader.readAsArrayBuffer(file);\n",
              "    });\n",
              "    // Wait for the data to be ready.\n",
              "    let fileData = yield {\n",
              "      promise: fileDataPromise,\n",
              "      response: {\n",
              "        action: 'continue',\n",
              "      }\n",
              "    };\n",
              "\n",
              "    // Use a chunked sending to avoid message size limits. See b/62115660.\n",
              "    let position = 0;\n",
              "    do {\n",
              "      const length = Math.min(fileData.byteLength - position, MAX_PAYLOAD_SIZE);\n",
              "      const chunk = new Uint8Array(fileData, position, length);\n",
              "      position += length;\n",
              "\n",
              "      const base64 = btoa(String.fromCharCode.apply(null, chunk));\n",
              "      yield {\n",
              "        response: {\n",
              "          action: 'append',\n",
              "          file: file.name,\n",
              "          data: base64,\n",
              "        },\n",
              "      };\n",
              "\n",
              "      let percentDone = fileData.byteLength === 0 ?\n",
              "          100 :\n",
              "          Math.round((position / fileData.byteLength) * 100);\n",
              "      percent.textContent = `${percentDone}% done`;\n",
              "\n",
              "    } while (position < fileData.byteLength);\n",
              "  }\n",
              "\n",
              "  // All done.\n",
              "  yield {\n",
              "    response: {\n",
              "      action: 'complete',\n",
              "    }\n",
              "  };\n",
              "}\n",
              "\n",
              "scope.google = scope.google || {};\n",
              "scope.google.colab = scope.google.colab || {};\n",
              "scope.google.colab._files = {\n",
              "  _uploadFiles,\n",
              "  _uploadFilesContinue,\n",
              "};\n",
              "})(self);\n",
              "</script> "
            ]
          },
          "metadata": {}
        },
        {
          "output_type": "stream",
          "name": "stdout",
          "text": [
            "Saving test.json to test (2).json\n"
          ]
        }
      ]
    },
    {
      "cell_type": "code",
      "source": [
        "import json\n",
        "\n",
        "# Load the JSON content from 'parameters.json' (replace with your file name)\n",
        "with open('test.json', 'r') as f:\n",
        "    data = json.load(f)"
      ],
      "metadata": {
        "id": "YTj341n5Cp6R"
      },
      "execution_count": 60,
      "outputs": []
    },
    {
      "cell_type": "markdown",
      "source": [
        "## Generate the documents"
      ],
      "metadata": {
        "id": "UEzAM4O1RIye"
      }
    },
    {
      "cell_type": "code",
      "source": [
        "documents = []\n",
        "\n",
        "def extract_text_from_dict(d):\n",
        "    text_content = \"\"\n",
        "    if isinstance(d, dict):\n",
        "        for key, value in d.items():\n",
        "            if key in ['doc', 'explanation', 'conditions', 'extra', 'description']:\n",
        "                text_content += str(value) + \"\\n\"\n",
        "            elif isinstance(value, dict):\n",
        "                text_content += extract_text_from_dict(value)\n",
        "            elif isinstance(value, list):\n",
        "                for item in value:\n",
        "                    text_content += extract_text_from_dict(item)\n",
        "    return text_content\n",
        "\n",
        "for key, value in data.items():\n",
        "    if isinstance(value, dict):\n",
        "        text_content = extract_text_from_dict(value)\n",
        "        if text_content:\n",
        "            documents.append(text_content)\n",
        "    elif isinstance(value, str):\n",
        "        documents.append(value)\n"
      ],
      "metadata": {
        "id": "Bt_rlPSrFVET"
      },
      "execution_count": 61,
      "outputs": []
    },
    {
      "cell_type": "markdown",
      "source": [
        "## Extract Triples from Documents\n",
        "### Don't use a big file if you don't have a paid API for the LLM"
      ],
      "metadata": {
        "id": "00Z4JxF-cP3U"
      }
    },
    {
      "cell_type": "code",
      "source": [
        "def generate_knowledge_graph(text):\n",
        "    prompt = f\"\"\"\n",
        "Extract entities and relationships from the following text and present them as a JSON array of triples (subject, predicate, object). Output **only** the JSON array, without any additional text.\n",
        "\n",
        "Text:\n",
        "{text}\n",
        "\n",
        "Output:\n",
        "\"\"\"\n",
        "    response = client.chat.completions.create(\n",
        "        messages=[{\"role\": \"user\", \"content\": prompt}],\n",
        "        model=\"llama3-groq-70b-8192-tool-use-preview\",\n",
        "        temperature=0\n",
        "    )\n",
        "    return response\n"
      ],
      "metadata": {
        "id": "cUpMYAskNeuN"
      },
      "execution_count": 62,
      "outputs": []
    },
    {
      "cell_type": "code",
      "source": [
        "import re\n",
        "import json\n",
        "\n",
        "all_triples = []\n",
        "\n",
        "for idx, doc in enumerate(documents):\n",
        "    output = generate_knowledge_graph(doc)\n",
        "    content = output.choices[0].message.content.strip()\n",
        "\n",
        "    # Extract JSON array from the content\n",
        "    json_data = re.search(r'\\[.*\\]', content, re.DOTALL)\n",
        "    if json_data:\n",
        "        json_text = json_data.group(0)\n",
        "    else:\n",
        "        print(f\"No JSON array found in the model's output for document {idx}.\")\n",
        "        json_text = content  # Fallback to using the entire content\n",
        "\n",
        "    # Replace single quotes with double quotes (if necessary)\n",
        "    json_text = json_text.replace(\"'\", '\"')\n",
        "\n",
        "    try:\n",
        "        triples = json.loads(json_text)\n",
        "        all_triples.extend(triples)\n",
        "    except json.JSONDecodeError as e:\n",
        "        print(f\"Failed to parse JSON for document {idx}:\", e)\n",
        "        print(\"Model output was:\", content)"
      ],
      "metadata": {
        "colab": {
          "base_uri": "https://localhost:8080/"
        },
        "id": "6wwANApYMjen",
        "outputId": "b06448ca-9d9b-4230-e02e-642ae9188c3b"
      },
      "execution_count": 63,
      "outputs": [
        {
          "output_type": "stream",
          "name": "stdout",
          "text": [
            "Failed to parse JSON for document 1: Expecting ',' delimiter: line 4 column 160 (char 558)\n",
            "Model output was: [\n",
            "  {\"subject\": \"ATOMIC_SPECIES\", \"predicate\": \"Syntax\", \"object\": \"X(1) Mass_X(1) PseudoPot_X(1) X(2) Mass_X(2) PseudoPot_X(2) X(ntyp) Mass_X(ntyp) PseudoPot_X(ntyp)\"},\n",
            "  {\"subject\": \"X\", \"predicate\": \"Description\", \"object\": \"chemical symbol X (1 or 2 characters, case-insensitive) or chemical symbol plus a number or a letter, as in Fe1 or C1, C_h; max total length cannot exceed 3 characters\"},\n",
            "  {\"subject\": \"Mass_X\", \"predicate\": \"Description\", \"object\": \"mass of the atomic species [amu: mass of C = 12] Used only when performing Molecular Dynamics ('md') run or structural optimization runs using Damped MD. Not actually used in all other cases (but stored in data files, so phonon calculations will use these values unless other values are provided)\"},\n",
            "  {\"subject\": \"PseudoPot_X\", \"predicate\": \"Description\", \"object\": \"File containing PP for this species.\"}\n",
            "]\n",
            "Failed to parse JSON for document 4: Expecting ',' delimiter: line 11 column 85 (char 1235)\n",
            "Model output was: [\n",
            "  {\"subject\": \"ADDITIONAL_K_POINTS\", \"predicate\": \"description\", \"object\": \"Adds a list of k-points with zero weight, after those used for the scf calculation.\"},\n",
            "  {\"subject\": \"ADDITIONAL_K_POINTS\", \"predicate\": \"default\", \"object\": \"tpiba\"},\n",
            "  {\"subject\": \"tpiba\", \"predicate\": \"description\", \"object\": \"read k-points in cartesian coordinates, in units of 2 pi/a (default)\"},\n",
            "  {\"subject\": \"tpiba_b\", \"predicate\": \"description\", \"object\": \"Used for band-structure plots.\"},\n",
            "  {\"subject\": \"tpiba_c\", \"predicate\": \"description\", \"object\": \"Used for band-structure contour plots.\"},\n",
            "  {\"subject\": \"crystal\", \"predicate\": \"description\", \"object\": \"read k-points in crystal coordinates, i.e. in relative coordinates of the reciprocal lattice vectors\"},\n",
            "  {\"subject\": \"crystal_b\", \"predicate\": \"description\", \"object\": \"As tpiba_b, but k-points are in crystal coordinates.\"},\n",
            "  {\"subject\": \"crystal_c\", \"predicate\": \"description\", \"object\": \"As tpiba_c, but k-points are in crystal coordinates.\"},\n",
            "  {\"subject\": \"ADDITIONAL_K_POINTS\", \"predicate\": \"syntax\", \"object\": \"ADDITIONAL_K_POINTS tpiba | tpiba_b | tpiba_c | crystal | crystal_b  | crystal_c\"},\n",
            "  {\"subject\": \"nks_add\", \"predicate\": \"description\", \"object\": \"Number of supplied 'additional' k-points.\"},\n",
            "  {\"subject\": \"k_x, k_y, k_z, wk_\", \"predicate\": \"description\", \"object\": \"Special k-points (xk_x/y/z) in the irreducible Brillouin Zone (IBZ) of the lattice (with all symmetries) and weights (wk)\"}\n",
            "]\n",
            "Failed to parse JSON for document 6: Expecting ',' delimiter: line 3 column 103 (char 295)\n",
            "Model output was: [\n",
            "  {\"subject\": \"Card: CONSTRAINTS\", \"predicate\": \"is used to\", \"object\": \"impose specific geometric constraints during molecular dynamics simulations or constrained optimization processes.\"},\n",
            "  {\"subject\": \"Card: CONSTRAINTS\", \"predicate\": \"applicable when\", \"object\": \"ion_dynamics is set to 'damp' or 'verlet'.\"},\n",
            "  {\"subject\": \"Card: CONSTRAINTS\", \"predicate\": \"not compatible with\", \"object\": \"variable-cell ('vc-relax', 'vc-md') simulations.\"},\n",
            "  {\"subject\": \"nconstr\", \"predicate\": \"is\", \"object\": \"the total number of constraints to be applied.\"},\n",
            "  {\"subject\": \"constr_tol\", \"predicate\": \"is\", \"object\": \"optional tolerance value for how strictly constraints should be enforced.\"},\n",
            "  {\"subject\": \"constr_type\", \"predicate\": \"is\", \"object\": \"type of constraint.\"},\n",
            "  {\"subject\": \"type_coord\", \"predicate\": \"imposes\", \"object\": \"a constraint on the global coordination number.\"},\n",
            "  {\"subject\": \"type_coord\", \"predicate\": \"constr(1)\", \"object\": \"index of the first atomic type (A).\"},\n",
            "  {\"subject\": \"type_coord\", \"predicate\": \"constr(2)\", \"object\": \"index of the second atomic type (B).\"},\n",
            "  {\"subject\": \"type_coord\", \"predicate\": \"constr(3)\", \"object\": \"cutoff radius for determining the coordination number.\"},\n",
            "  {\"subject\": \"type_coord\", \"predicate\": \"constr(4)\", \"object\": \"smoothing parameter for the coordination calculation.\"},\n",
            "  {\"subject\": \"atom_coord\", \"predicate\": \"imposes\", \"object\": \"a constraint on the local coordination number around a specific atom.\"},\n",
            "  {\"subject\": \"atom_coord\", \"predicate\": \"constr(1)\", \"object\": \"index of the atom with the constrained coordination number.\"},\n",
            "  {\"subject\": \"atom_coord\", \"predicate\": \"constr(2)\", \"object\": \"index of the atomic type involved in the coordination.\"},\n",
            "  {\"subject\": \"atom_coord\", \"predicate\": \"constr(3)\", \"object\": \"cutoff radius for determining the coordination number.\"},\n",
            "  {\"subject\": \"atom_coord\", \"predicate\": \"constr(4)\", \"object\": \"smoothing parameter for the coordination calculation.\"},\n",
            "  {\"subject\": \"distance\", \"predicate\": \"constrains\", \"object\": \"the interatomic distance between two atoms.\"},\n",
            "  {\"subject\": \"distance\", \"predicate\": \"constr(1)\", \"object\": \"index of the first atom.\"},\n",
            "  {\"subject\": \"distance\", \"predicate\": \"constr(2)\", \"object\": \"index of the second atom.\"},\n",
            "  {\"subject\": \"distance\", \"predicate\": \"constr_target\", \"object\": \"target distance between the two atoms.\"},\n",
            "  {\"subject\": \"planar_angle\", \"predicate\": \"constrains\", \"object\": \"the planar angle formed by three atoms.\"},\n",
            "  {\"subject\": \"planar_angle\", \"predicate\": \"constr(1)\", \"object\": \"index of the first atom.\"},\n",
            "  {\"subject\": \"planar_angle\", \"predicate\": \"constr(2)\", \"object\": \"index of the second atom.\"},\n",
            "  {\"subject\": \"planar_angle\", \"predicate\": \"constr(3)\", \"object\": \"index of the third atom.\"},\n",
            "  {\"subject\": \"planar_angle\", \"predicate\": \"constr_target\", \"object\": \"target angle in degrees.\"},\n",
            "  {\"subject\": \"torsional_angle\", \"predicate\": \"constrains\", \"object\": \"the torsional (dihedral) angle formed by four atoms.\"},\n",
            "  {\"subject\": \"torsional_angle\", \"predicate\": \"constr(1)\", \"object\": \"index of the first atom.\"},\n",
            "  {\"subject\": \"torsional_angle\", \"predicate\": \"constr(2)\", \"object\": \"index of the second atom.\"},\n",
            "  {\"subject\": \"torsional_angle\", \"predicate\": \"constr(3)\", \"object\": \"index of the third atom.\"},\n",
            "  {\"subject\": \"torsional_angle\", \"predicate\": \"constr(4)\", \"object\": \"index of the fourth atom.\"},\n",
            "  {\"subject\": \"torsional_angle\", \"predicate\": \"constr_target\", \"object\": \"target angle in degrees.\"},\n",
            "  {\"subject\": \"bennett_proj\", \"predicate\": \"constrains\", \"object\": \"the projection of a vector onto a given direction.\"},\n",
            "  {\"subject\": \"bennett_proj\", \"predicate\": \"constr(1)\", \"object\": \"index of the atom whose position is constrained.\"},\n",
            "  {\"subject\": \"bennett_proj\", \"predicate\": \"constr(2)\", \"object\": \"X-coordinate of the vector direction.\"},\n",
            "  {\"subject\": \"bennett_proj\", \"predicate\": \"constr(3)\", \"object\": \"Y-coordinate of the vector direction.\"},\n",
            "  {\"subject\": \"bennett_proj\", \"predicate\": \"constr(4)\", \"object\": \"Z-coordinate of the vector direction.\"},\n",
            "  {\"subject\": \"potential_wall\", \"predicate\": \"adds\", \"object\": \"a potential wall along the z-axis to restrict atom positions.\"},\n",
            "  {\"subject\": \"potential_wall\", \"predicate\": \"constr(1)\", \"object\": \"prefactor for the external force.\"},\n",
            "  {\"subject\": \"potential_wall\", \"predicate\": \"constr(2)\", \"object\": \"exponent value.\"},\n",
            "  {\"subject\": \"potential_wall\", \"predicate\": \"constr(3)\", \"object\": \"cutoff distance (in a.u.) for the force application.\"}\n",
            "]\n",
            "Failed to parse JSON for document 7: Expecting ',' delimiter: line 3 column 77 (char 147)\n",
            "Model output was: [\n",
            "  {\"subject\": \"Card\", \"predicate\": \"type\", \"object\": \"OCCUPATIONS\"},\n",
            "  {\"subject\": \"OCCUPATIONS\", \"predicate\": \"used_if\", \"object\": \"&SYSTEM -> 'occupations' == 'from_input'\"},\n",
            "  {\"subject\": \"OCCUPATIONS\", \"predicate\": \"ignored_if\", \"object\": \"&SYSTEM -> 'occupations' != 'from_input'\"},\n",
            "  {\"subject\": \"Syntax\", \"predicate\": \"description\", \"object\": \"f_inp1(1) f_inp1(2) . . . f_inp1(nbnd)\"},\n",
            "  {\"subject\": \"Syntax\", \"predicate\": \"description\", \"object\": \"[ f_inp2(1) f_inp2(2) . . . f_inp2(nbnd) ]\"},\n",
            "  {\"subject\": \"f_inp1\", \"predicate\": \"type\", \"object\": \"REAL\"},\n",
            "  {\"subject\": \"f_inp1\", \"predicate\": \"description\", \"object\": \"Occupations of individual states (MAX 10 PER ROW). For spin-polarized calculations, these are majority spin states.\"},\n",
            "  {\"subject\": \"f_inp2\", \"predicate\": \"type\", \"object\": \"REAL\"},\n",
            "  {\"subject\": \"f_inp2\", \"predicate\": \"description\", \"object\": \"Occupations of minority spin states (MAX 10 PER ROW). To be specified only for spin-polarized calculations.\"}\n",
            "]\n",
            "Failed to parse JSON for document 10: Expecting ',' delimiter: line 2 column 75 (char 76)\n",
            "Model output was: [\n",
            "  {\"subject\": \"SOLVENTS\", \"predicate\": \"used_if\", \"object\": \"&CONTROL -> 'trism' = .TRUE.\"},\n",
            "  {\"subject\": \"SOLVENTS\", \"predicate\": \"options\", \"object\": \"1/cell OR mol/L OR g/cm^3\"},\n",
            "  {\"subject\": \"1/cell\", \"predicate\": \"specify\", \"object\": \"number of molecules in the unit cell\"},\n",
            "  {\"subject\": \"mol/L\", \"predicate\": \"specify\", \"object\": \"molar concentrations\"},\n",
            "  {\"subject\": \"g/cm^3\", \"predicate\": \"specify\", \"object\": \"gram per cm^3\"},\n",
            "  {\"subject\": \"SOLVENTS\", \"predicate\": \"syntax\", \"object\": \"X(1) Density(1) Molecule(1) X(2) Density(2) Molecule(2) X(nsolv) Density(nsolv) Molecule(nsolv)\"},\n",
            "  {\"subject\": \"X\", \"predicate\": \"type\", \"object\": \"CHARACTER\"},\n",
            "  {\"subject\": \"Density\", \"predicate\": \"type\", \"object\": \"REAL\"},\n",
            "  {\"subject\": \"Molecule\", \"predicate\": \"type\", \"object\": \"CHARACTER\"},\n",
            "  {\"subject\": \"SOLVENTS\", \"predicate\": \"example\", \"object\": \"2 mol/L NaCl in water\"},\n",
            "  {\"subject\": \"NaCl\", \"predicate\": \"concentration\", \"object\": \"2 mol/L\"},\n",
            "  {\"subject\": \"NaCl\", \"predicate\": \"in\", \"object\": \"water\"},\n",
            "  {\"subject\": \"SOLVENTS\", \"predicate\": \"syntax\", \"object\": \"X(1) Density_Left(1) Density_Right(1) Molecule(1) X(2) Density_Left(2) Density_Right(2) Molecule(2) X(nsolv) Density_Left(nsolv) Density_Right(nsolv) Molecule(nsolv)\"},\n",
            "  {\"subject\": \"Density_Left\", \"predicate\": \"type\", \"object\": \"REAL\"},\n",
            "  {\"subject\": \"Density_Right\", \"predicate\": \"type\", \"object\": \"REAL\"}\n",
            "]\n"
          ]
        }
      ]
    },
    {
      "cell_type": "markdown",
      "source": [
        "## Build the Knowledge Graph"
      ],
      "metadata": {
        "id": "i6oJ3KLccju9"
      }
    },
    {
      "cell_type": "code",
      "source": [
        "import networkx as nx\n",
        "\n",
        "KG = nx.DiGraph()\n",
        "\n",
        "for triple in all_triples:\n",
        "    subject = triple['subject']\n",
        "    predicate = triple['predicate']\n",
        "    obj = triple['object']\n",
        "    KG.add_edge(subject, obj, label=predicate)\n"
      ],
      "metadata": {
        "id": "vUQBaPhdP5Al"
      },
      "execution_count": 64,
      "outputs": []
    },
    {
      "cell_type": "markdown",
      "source": [
        "## Extract Entities from User Query"
      ],
      "metadata": {
        "id": "ZfjtYA6vcqEU"
      }
    },
    {
      "cell_type": "code",
      "source": [
        "def extract_entities_from_query(query):\n",
        "    prompt = f\"\"\"\n",
        "Extract the entities from the following query:\n",
        "\n",
        "Query:\n",
        "{query}\n",
        "\n",
        "Entities (provide a comma-separated list):\n",
        "\"\"\"\n",
        "    response = client.chat.completions.create(\n",
        "        messages=[{\"role\": \"user\", \"content\": prompt}],\n",
        "        model=\"llama3-groq-70b-8192-tool-use-preview\",\n",
        "        temperature=0\n",
        "    )\n",
        "    content = response.choices[0].message.content.strip()\n",
        "    # Parse the entities\n",
        "    entities = [entity.strip() for entity in content.split(',') if entity.strip()]\n",
        "    return entities"
      ],
      "metadata": {
        "id": "XkWd2jigQOKp"
      },
      "execution_count": 65,
      "outputs": []
    },
    {
      "cell_type": "markdown",
      "source": [
        "## Retrieve Relevant Knowledge"
      ],
      "metadata": {
        "id": "pDtWdugicvvp"
      }
    },
    {
      "cell_type": "code",
      "source": [
        "def retrieve_knowledge(entities, KG):\n",
        "    subgraph = nx.DiGraph()\n",
        "    for entity in entities:\n",
        "        if entity in KG.nodes:\n",
        "            # Outgoing edges\n",
        "            for neighbor in KG.successors(entity):\n",
        "                predicate = KG.edges[entity, neighbor]['label']\n",
        "                subgraph.add_edge(entity, neighbor, label=predicate)\n",
        "            # Incoming edges\n",
        "            for predecessor in KG.predecessors(entity):\n",
        "                predicate = KG.edges[predecessor, entity]['label']\n",
        "                subgraph.add_edge(predecessor, entity, label=predicate)\n",
        "    return subgraph"
      ],
      "metadata": {
        "id": "ytQ9oHA-QZv4"
      },
      "execution_count": 66,
      "outputs": []
    },
    {
      "cell_type": "markdown",
      "source": [
        "## Generate Answer"
      ],
      "metadata": {
        "id": "phzupUd7S745"
      }
    },
    {
      "cell_type": "code",
      "source": [
        "def generate_answer(query, knowledge_subgraph):\n",
        "    # Convert the subgraph into text\n",
        "    knowledge_statements = []\n",
        "    for u, v, data in knowledge_subgraph.edges(data=True):\n",
        "        knowledge_statements.append(f\"{u} {data['label']} {v}.\")\n",
        "    knowledge_text = \"\\n\".join(knowledge_statements)\n",
        "\n",
        "    prompt = f\"\"\"\n",
        "Answer the following question using the provided knowledge.\n",
        "\n",
        "Question:\n",
        "{query}\n",
        "\n",
        "Knowledge:\n",
        "{knowledge_text}\n",
        "\n",
        "Answer:\n",
        "\"\"\"\n",
        "    response = client.chat.completions.create(\n",
        "        messages=[{\"role\": \"user\", \"content\": prompt}],\n",
        "        model=\"llama3-groq-70b-8192-tool-use-preview\",\n",
        "        temperature=0\n",
        "    )\n",
        "    content = response.choices[0].message.content.strip()\n",
        "    return content"
      ],
      "metadata": {
        "id": "eNFi-lszQksG"
      },
      "execution_count": 67,
      "outputs": []
    },
    {
      "cell_type": "markdown",
      "source": [
        "## Augment the Language Model's Response"
      ],
      "metadata": {
        "id": "F5y7V-Rcc2MI"
      }
    },
    {
      "cell_type": "markdown",
      "source": [
        "## Example"
      ],
      "metadata": {
        "id": "ZdwDjpfVdFfI"
      }
    },
    {
      "cell_type": "code",
      "source": [
        "query = \"What is the default value of ibrav?\""
      ],
      "metadata": {
        "id": "zra-Zpl2P75v"
      },
      "execution_count": 68,
      "outputs": []
    },
    {
      "cell_type": "code",
      "source": [
        "entities = extract_entities_from_query(query)\n",
        "print(\"Extracted Entities:\", entities)"
      ],
      "metadata": {
        "colab": {
          "base_uri": "https://localhost:8080/"
        },
        "id": "7K9_Z-JuP9Lj",
        "outputId": "6adb6990-720a-4475-f059-e22f63c7b074"
      },
      "execution_count": 69,
      "outputs": [
        {
          "output_type": "stream",
          "name": "stdout",
          "text": [
            "Extracted Entities: ['ibrav']\n"
          ]
        }
      ]
    },
    {
      "cell_type": "code",
      "source": [
        "knowledge_subgraph = retrieve_knowledge(entities, KG)"
      ],
      "metadata": {
        "id": "EYhYubuFQUbY"
      },
      "execution_count": 70,
      "outputs": []
    },
    {
      "cell_type": "code",
      "source": [
        "answer = generate_answer(query, knowledge_subgraph)\n",
        "print(\"Answer:\", answer)"
      ],
      "metadata": {
        "colab": {
          "base_uri": "https://localhost:8080/"
        },
        "id": "tMNm6qMKQdAU",
        "outputId": "925c7acd-9395-476f-aaf1-24761361a62d"
      },
      "execution_count": 71,
      "outputs": [
        {
          "output_type": "stream",
          "name": "stdout",
          "text": [
            "Answer: The default value of ibrav is 0.\n"
          ]
        }
      ]
    },
    {
      "cell_type": "code",
      "source": [
        "import matplotlib.pyplot as plt\n",
        "\n",
        "pos = nx.spring_layout(knowledge_subgraph)\n",
        "edge_labels = nx.get_edge_attributes(knowledge_subgraph, 'label')\n",
        "nx.draw(knowledge_subgraph, pos, with_labels=True, node_color='lightgreen', node_size=2000, edge_color='gray', linewidths=1, font_size=10)\n",
        "nx.draw_networkx_edge_labels(knowledge_subgraph, pos, edge_labels=edge_labels, font_size=8)\n",
        "plt.show()"
      ],
      "metadata": {
        "colab": {
          "base_uri": "https://localhost:8080/",
          "height": 516
        },
        "id": "D6-IoWLvdfHD",
        "outputId": "9f94d33d-134a-40c3-a4d1-ea1632d29a47"
      },
      "execution_count": 72,
      "outputs": [
        {
          "output_type": "display_data",
          "data": {
            "text/plain": [
              "<Figure size 640x480 with 1 Axes>"
            ],
            "image/png": "[encoded data removed]"
          },
          "metadata": {}
        }
      ]
    }
  ]
}